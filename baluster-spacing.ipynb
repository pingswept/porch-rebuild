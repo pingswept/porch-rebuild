{
 "metadata": {
  "name": "",
  "signature": "sha256:be6bb83ed938f34acc3fceffa90e9e7da78dc29f5b6fb6d7911be66181a70bd9"
 },
 "nbformat": 3,
 "nbformat_minor": 0,
 "worksheets": [
  {
   "cells": [
    {
     "cell_type": "code",
     "collapsed": false,
     "input": [
      "lengths = [43.0, 43.0, 45.5, 61.25, 61.25, 78.0]"
     ],
     "language": "python",
     "metadata": {},
     "outputs": [],
     "prompt_number": 48
    },
    {
     "cell_type": "code",
     "collapsed": false,
     "input": [
      "import numpy as np"
     ],
     "language": "python",
     "metadata": {},
     "outputs": [],
     "prompt_number": 61
    },
    {
     "cell_type": "code",
     "collapsed": false,
     "input": [
      "baluster_width = 2.0"
     ],
     "language": "python",
     "metadata": {},
     "outputs": [],
     "prompt_number": 62
    },
    {
     "cell_type": "code",
     "collapsed": false,
     "input": [
      "target_spacing = 2.25"
     ],
     "language": "python",
     "metadata": {},
     "outputs": [],
     "prompt_number": 63
    },
    {
     "cell_type": "code",
     "collapsed": false,
     "input": [
      "for length in lengths:\n",
      "    errors = np.array([100.0] * 50)\n",
      "    for count in range(9, 21):\n",
      "        errors[count] = abs((length - baluster_width * float(count))/(float(count) + 1.0) - target_spacing)\n",
      "    print np.where(errors == errors.min())"
     ],
     "language": "python",
     "metadata": {},
     "outputs": [
      {
       "output_type": "stream",
       "stream": "stdout",
       "text": [
        "(array([10]),)\n",
        "(array([10]),)\n",
        "(array([10]),)\n",
        "(array([14]),)\n",
        "(array([14]),)\n",
        "(array([18]),)\n"
       ]
      }
     ],
     "prompt_number": 76
    },
    {
     "cell_type": "code",
     "collapsed": false,
     "input": [],
     "language": "python",
     "metadata": {},
     "outputs": []
    }
   ],
   "metadata": {}
  }
 ]
}%
